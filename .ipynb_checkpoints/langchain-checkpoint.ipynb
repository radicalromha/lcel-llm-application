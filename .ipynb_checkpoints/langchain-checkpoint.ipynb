{
 "cells": [
  {
   "cell_type": "code",
   "execution_count": 1,
   "metadata": {},
   "outputs": [
    {
     "name": "stdout",
     "output_type": "stream",
     "text": [
      "Requirement already satisfied: langchain in c:\\users\\16788\\onedrive\\documents\\llm-application\\lcel-llm-application\\venv\\lib\\site-packages (0.2.9)\n",
      "Requirement already satisfied: PyYAML>=5.3 in c:\\users\\16788\\onedrive\\documents\\llm-application\\lcel-llm-application\\venv\\lib\\site-packages (from langchain) (6.0.1)\n",
      "Requirement already satisfied: SQLAlchemy<3,>=1.4 in c:\\users\\16788\\onedrive\\documents\\llm-application\\lcel-llm-application\\venv\\lib\\site-packages (from langchain) (2.0.31)\n",
      "Requirement already satisfied: aiohttp<4.0.0,>=3.8.3 in c:\\users\\16788\\onedrive\\documents\\llm-application\\lcel-llm-application\\venv\\lib\\site-packages (from langchain) (3.9.5)\n",
      "Requirement already satisfied: async-timeout<5.0.0,>=4.0.0 in c:\\users\\16788\\onedrive\\documents\\llm-application\\lcel-llm-application\\venv\\lib\\site-packages (from langchain) (4.0.3)\n",
      "Requirement already satisfied: langchain-core<0.3.0,>=0.2.20 in c:\\users\\16788\\onedrive\\documents\\llm-application\\lcel-llm-application\\venv\\lib\\site-packages (from langchain) (0.2.20)\n",
      "Requirement already satisfied: langchain-text-splitters<0.3.0,>=0.2.0 in c:\\users\\16788\\onedrive\\documents\\llm-application\\lcel-llm-application\\venv\\lib\\site-packages (from langchain) (0.2.2)\n",
      "Requirement already satisfied: langsmith<0.2.0,>=0.1.17 in c:\\users\\16788\\onedrive\\documents\\llm-application\\lcel-llm-application\\venv\\lib\\site-packages (from langchain) (0.1.88)\n",
      "Requirement already satisfied: numpy<2,>=1 in c:\\users\\16788\\onedrive\\documents\\llm-application\\lcel-llm-application\\venv\\lib\\site-packages (from langchain) (1.26.4)\n",
      "Requirement already satisfied: pydantic<3,>=1 in c:\\users\\16788\\onedrive\\documents\\llm-application\\lcel-llm-application\\venv\\lib\\site-packages (from langchain) (2.8.2)\n",
      "Requirement already satisfied: requests<3,>=2 in c:\\users\\16788\\onedrive\\documents\\llm-application\\lcel-llm-application\\venv\\lib\\site-packages (from langchain) (2.32.3)\n",
      "Requirement already satisfied: tenacity!=8.4.0,<9.0.0,>=8.1.0 in c:\\users\\16788\\onedrive\\documents\\llm-application\\lcel-llm-application\\venv\\lib\\site-packages (from langchain) (8.5.0)\n",
      "Requirement already satisfied: aiosignal>=1.1.2 in c:\\users\\16788\\onedrive\\documents\\llm-application\\lcel-llm-application\\venv\\lib\\site-packages (from aiohttp<4.0.0,>=3.8.3->langchain) (1.3.1)\n",
      "Requirement already satisfied: attrs>=17.3.0 in c:\\users\\16788\\onedrive\\documents\\llm-application\\lcel-llm-application\\venv\\lib\\site-packages (from aiohttp<4.0.0,>=3.8.3->langchain) (23.2.0)\n",
      "Requirement already satisfied: frozenlist>=1.1.1 in c:\\users\\16788\\onedrive\\documents\\llm-application\\lcel-llm-application\\venv\\lib\\site-packages (from aiohttp<4.0.0,>=3.8.3->langchain) (1.4.1)\n",
      "Requirement already satisfied: multidict<7.0,>=4.5 in c:\\users\\16788\\onedrive\\documents\\llm-application\\lcel-llm-application\\venv\\lib\\site-packages (from aiohttp<4.0.0,>=3.8.3->langchain) (6.0.5)\n",
      "Requirement already satisfied: yarl<2.0,>=1.0 in c:\\users\\16788\\onedrive\\documents\\llm-application\\lcel-llm-application\\venv\\lib\\site-packages (from aiohttp<4.0.0,>=3.8.3->langchain) (1.9.4)\n",
      "Requirement already satisfied: jsonpatch<2.0,>=1.33 in c:\\users\\16788\\onedrive\\documents\\llm-application\\lcel-llm-application\\venv\\lib\\site-packages (from langchain-core<0.3.0,>=0.2.20->langchain) (1.33)\n",
      "Requirement already satisfied: packaging<25,>=23.2 in c:\\users\\16788\\onedrive\\documents\\llm-application\\lcel-llm-application\\venv\\lib\\site-packages (from langchain-core<0.3.0,>=0.2.20->langchain) (24.1)\n",
      "Requirement already satisfied: orjson<4.0.0,>=3.9.14 in c:\\users\\16788\\onedrive\\documents\\llm-application\\lcel-llm-application\\venv\\lib\\site-packages (from langsmith<0.2.0,>=0.1.17->langchain) (3.10.6)\n",
      "Requirement already satisfied: annotated-types>=0.4.0 in c:\\users\\16788\\onedrive\\documents\\llm-application\\lcel-llm-application\\venv\\lib\\site-packages (from pydantic<3,>=1->langchain) (0.7.0)\n",
      "Requirement already satisfied: pydantic-core==2.20.1 in c:\\users\\16788\\onedrive\\documents\\llm-application\\lcel-llm-application\\venv\\lib\\site-packages (from pydantic<3,>=1->langchain) (2.20.1)\n",
      "Requirement already satisfied: typing-extensions>=4.6.1 in c:\\users\\16788\\onedrive\\documents\\llm-application\\lcel-llm-application\\venv\\lib\\site-packages (from pydantic<3,>=1->langchain) (4.12.2)\n",
      "Requirement already satisfied: charset-normalizer<4,>=2 in c:\\users\\16788\\onedrive\\documents\\llm-application\\lcel-llm-application\\venv\\lib\\site-packages (from requests<3,>=2->langchain) (3.3.2)\n",
      "Requirement already satisfied: idna<4,>=2.5 in c:\\users\\16788\\onedrive\\documents\\llm-application\\lcel-llm-application\\venv\\lib\\site-packages (from requests<3,>=2->langchain) (3.7)\n",
      "Requirement already satisfied: urllib3<3,>=1.21.1 in c:\\users\\16788\\onedrive\\documents\\llm-application\\lcel-llm-application\\venv\\lib\\site-packages (from requests<3,>=2->langchain) (2.2.2)\n",
      "Requirement already satisfied: certifi>=2017.4.17 in c:\\users\\16788\\onedrive\\documents\\llm-application\\lcel-llm-application\\venv\\lib\\site-packages (from requests<3,>=2->langchain) (2024.7.4)\n",
      "Requirement already satisfied: greenlet!=0.4.17 in c:\\users\\16788\\onedrive\\documents\\llm-application\\lcel-llm-application\\venv\\lib\\site-packages (from SQLAlchemy<3,>=1.4->langchain) (3.0.3)\n",
      "Requirement already satisfied: jsonpointer>=1.9 in c:\\users\\16788\\onedrive\\documents\\llm-application\\lcel-llm-application\\venv\\lib\\site-packages (from jsonpatch<2.0,>=1.33->langchain-core<0.3.0,>=0.2.20->langchain) (3.0.0)\n",
      "Note: you may need to restart the kernel to use updated packages.\n"
     ]
    }
   ],
   "source": [
    "pip install langchain"
   ]
  },
  {
   "cell_type": "code",
   "execution_count": 2,
   "metadata": {},
   "outputs": [
    {
     "name": "stdout",
     "output_type": "stream",
     "text": [
      "<class 'os._Environ'>\n"
     ]
    },
    {
     "name": "stdin",
     "output_type": "stream",
     "text": [
      "Enter your OpenAI API key:  ········\n"
     ]
    },
    {
     "name": "stdout",
     "output_type": "stream",
     "text": [
      "Model initialized successfully\n"
     ]
    }
   ],
   "source": [
    "import os\n",
    "import getpass\n",
    "from langchain_openai import ChatOpenAI\n",
    "\n",
    "print(type(os.environ))\n",
    "\n",
    "os.environ[\"OPENAI_API_KEY\"] = getpass.getpass(\"Enter your OpenAI API key: \")\n",
    "\n",
    "model = ChatOpenAI(model=\"gpt-4\")\n",
    "print(\"Model initialized successfully\")"
   ]
  },
  {
   "cell_type": "code",
   "execution_count": 9,
   "metadata": {},
   "outputs": [
    {
     "name": "stdout",
     "output_type": "stream",
     "text": [
      "Unexpected exception formatting exception. Falling back to standard exception\n"
     ]
    },
    {
     "name": "stderr",
     "output_type": "stream",
     "text": [
      "Traceback (most recent call last):\n",
      "  File \"C:\\Users\\16788\\AppData\\Roaming\\Python\\Python311\\site-packages\\IPython\\core\\interactiveshell.py\", line 3106, in _run_cell\n",
      "    result = runner(coro)\n",
      "             ^^^^^^^^^^^^\n",
      "  File \"C:\\Users\\16788\\AppData\\Roaming\\Python\\Python311\\site-packages\\IPython\\core\\async_helpers.py\", line 129, in _pseudo_sync_runner\n",
      "    coro.send(None)\n",
      "  File \"C:\\Users\\16788\\AppData\\Roaming\\Python\\Python311\\site-packages\\IPython\\core\\interactiveshell.py\", line 3278, in run_cell_async\n",
      "    cell_name = compiler.cache(cell, self.execution_count, raw_code=raw_cell)\n",
      "                ^^^^^^^^^^^^^^^^^^^^^^^^^^^^^^^^^^^^^^^^^^^^^^^^^^^^^^^^^^^^^\n",
      "  File \"C:\\Users\\16788\\AppData\\Roaming\\Python\\Python311\\site-packages\\IPython\\core\\compilerop.py\", line 155, in cache\n",
      "    name = self.get_code_name(raw_code, transformed_code, number)\n",
      "           ^^^^^^^^^^^^^^^^^^^^^^^^^^^^^^^^^^^^^^^^^^^^^^^^^^^^^^\n",
      "  File \"C:\\Users\\16788\\AppData\\Roaming\\Python\\Python311\\site-packages\\ipykernel\\compiler.py\", line 105, in get_code_name\n",
      "    return get_file_name(raw_code)\n",
      "           ^^^^^^^^^^^^^^^^^^^^^^^\n",
      "  File \"C:\\Users\\16788\\AppData\\Roaming\\Python\\Python311\\site-packages\\ipykernel\\compiler.py\", line 88, in get_file_name\n",
      "    cell_name = os.environ.get(\"IPYKERNEL_CELL_NAME\")\n",
      "                ^^^^^^^^^^^^^^\n",
      "AttributeError: 'str' object has no attribute 'get'\n",
      "\n",
      "During handling of the above exception, another exception occurred:\n",
      "\n",
      "Traceback (most recent call last):\n",
      "  File \"C:\\Users\\16788\\AppData\\Roaming\\Python\\Python311\\site-packages\\IPython\\core\\interactiveshell.py\", line 2144, in showtraceback\n",
      "    stb = self.InteractiveTB.structured_traceback(\n",
      "          ^^^^^^^^^^^^^^^^^^^^^^^^^^^^^^^^^^^^^^^^\n",
      "  File \"C:\\Users\\16788\\AppData\\Roaming\\Python\\Python311\\site-packages\\IPython\\core\\ultratb.py\", line 1448, in structured_traceback\n",
      "    return FormattedTB.structured_traceback(\n",
      "           ^^^^^^^^^^^^^^^^^^^^^^^^^^^^^^^^^\n",
      "  File \"C:\\Users\\16788\\AppData\\Roaming\\Python\\Python311\\site-packages\\IPython\\core\\ultratb.py\", line 1339, in structured_traceback\n",
      "    return VerboseTB.structured_traceback(\n",
      "           ^^^^^^^^^^^^^^^^^^^^^^^^^^^^^^^\n",
      "  File \"C:\\Users\\16788\\AppData\\Roaming\\Python\\Python311\\site-packages\\IPython\\core\\ultratb.py\", line 1186, in structured_traceback\n",
      "    formatted_exception = self.format_exception_as_a_whole(etype, evalue, etb, number_of_lines_of_context,\n",
      "                          ^^^^^^^^^^^^^^^^^^^^^^^^^^^^^^^^^^^^^^^^^^^^^^^^^^^^^^^^^^^^^^^^^^^^^^^^^^^^^^^^\n",
      "  File \"C:\\Users\\16788\\AppData\\Roaming\\Python\\Python311\\site-packages\\IPython\\core\\ultratb.py\", line 1074, in format_exception_as_a_whole\n",
      "    head = self.prepare_header(str(etype), self.long_header)\n",
      "           ^^^^^^^^^^^^^^^^^^^^^^^^^^^^^^^^^^^^^^^^^^^^^^^^^\n",
      "  File \"C:\\Users\\16788\\AppData\\Roaming\\Python\\Python311\\site-packages\\IPython\\core\\ultratb.py\", line 992, in prepare_header\n",
      "    width = min(75, get_terminal_size()[0])\n",
      "                    ^^^^^^^^^^^^^^^^^^^\n",
      "  File \"C:\\Users\\16788\\AppData\\Roaming\\Python\\Python311\\site-packages\\IPython\\utils\\terminal.py\", line 125, in get_terminal_size\n",
      "    return _get_terminal_size((defaultx, defaulty))\n",
      "           ^^^^^^^^^^^^^^^^^^^^^^^^^^^^^^^^^^^^^^^^\n",
      "  File \"c:\\Python311\\Lib\\shutil.py\", line 1408, in get_terminal_size\n",
      "    columns = int(os.environ['COLUMNS'])\n",
      "                  ~~~~~~~~~~^^^^^^^^^^^\n",
      "TypeError: string indices must be integers, not 'str'\n"
     ]
    },
    {
     "name": "stdout",
     "output_type": "stream",
     "text": [
      "ERROR! Session/line number was not unique in database. History logging moved to new session 139\n"
     ]
    }
   ],
   "source": []
  },
  {
   "cell_type": "code",
   "execution_count": 9,
   "metadata": {},
   "outputs": [
    {
     "name": "stdout",
     "output_type": "stream",
     "text": [
      "Unexpected exception formatting exception. Falling back to standard exception\n"
     ]
    },
    {
     "name": "stderr",
     "output_type": "stream",
     "text": [
      "Traceback (most recent call last):\n",
      "  File \"C:\\Users\\16788\\AppData\\Roaming\\Python\\Python311\\site-packages\\IPython\\core\\interactiveshell.py\", line 3106, in _run_cell\n",
      "    result = runner(coro)\n",
      "             ^^^^^^^^^^^^\n",
      "  File \"C:\\Users\\16788\\AppData\\Roaming\\Python\\Python311\\site-packages\\IPython\\core\\async_helpers.py\", line 129, in _pseudo_sync_runner\n",
      "    coro.send(None)\n",
      "  File \"C:\\Users\\16788\\AppData\\Roaming\\Python\\Python311\\site-packages\\IPython\\core\\interactiveshell.py\", line 3278, in run_cell_async\n",
      "    cell_name = compiler.cache(cell, self.execution_count, raw_code=raw_cell)\n",
      "                ^^^^^^^^^^^^^^^^^^^^^^^^^^^^^^^^^^^^^^^^^^^^^^^^^^^^^^^^^^^^^\n",
      "  File \"C:\\Users\\16788\\AppData\\Roaming\\Python\\Python311\\site-packages\\IPython\\core\\compilerop.py\", line 155, in cache\n",
      "    name = self.get_code_name(raw_code, transformed_code, number)\n",
      "           ^^^^^^^^^^^^^^^^^^^^^^^^^^^^^^^^^^^^^^^^^^^^^^^^^^^^^^\n",
      "  File \"C:\\Users\\16788\\AppData\\Roaming\\Python\\Python311\\site-packages\\ipykernel\\compiler.py\", line 105, in get_code_name\n",
      "    return get_file_name(raw_code)\n",
      "           ^^^^^^^^^^^^^^^^^^^^^^^\n",
      "  File \"C:\\Users\\16788\\AppData\\Roaming\\Python\\Python311\\site-packages\\ipykernel\\compiler.py\", line 88, in get_file_name\n",
      "    cell_name = os.environ.get(\"IPYKERNEL_CELL_NAME\")\n",
      "                ^^^^^^^^^^^^^^\n",
      "AttributeError: 'str' object has no attribute 'get'\n",
      "\n",
      "During handling of the above exception, another exception occurred:\n",
      "\n",
      "Traceback (most recent call last):\n",
      "  File \"C:\\Users\\16788\\AppData\\Roaming\\Python\\Python311\\site-packages\\IPython\\core\\interactiveshell.py\", line 2144, in showtraceback\n",
      "    stb = self.InteractiveTB.structured_traceback(\n",
      "          ^^^^^^^^^^^^^^^^^^^^^^^^^^^^^^^^^^^^^^^^\n",
      "  File \"C:\\Users\\16788\\AppData\\Roaming\\Python\\Python311\\site-packages\\IPython\\core\\ultratb.py\", line 1448, in structured_traceback\n",
      "    return FormattedTB.structured_traceback(\n",
      "           ^^^^^^^^^^^^^^^^^^^^^^^^^^^^^^^^^\n",
      "  File \"C:\\Users\\16788\\AppData\\Roaming\\Python\\Python311\\site-packages\\IPython\\core\\ultratb.py\", line 1339, in structured_traceback\n",
      "    return VerboseTB.structured_traceback(\n",
      "           ^^^^^^^^^^^^^^^^^^^^^^^^^^^^^^^\n",
      "  File \"C:\\Users\\16788\\AppData\\Roaming\\Python\\Python311\\site-packages\\IPython\\core\\ultratb.py\", line 1186, in structured_traceback\n",
      "    formatted_exception = self.format_exception_as_a_whole(etype, evalue, etb, number_of_lines_of_context,\n",
      "                          ^^^^^^^^^^^^^^^^^^^^^^^^^^^^^^^^^^^^^^^^^^^^^^^^^^^^^^^^^^^^^^^^^^^^^^^^^^^^^^^^\n",
      "  File \"C:\\Users\\16788\\AppData\\Roaming\\Python\\Python311\\site-packages\\IPython\\core\\ultratb.py\", line 1074, in format_exception_as_a_whole\n",
      "    head = self.prepare_header(str(etype), self.long_header)\n",
      "           ^^^^^^^^^^^^^^^^^^^^^^^^^^^^^^^^^^^^^^^^^^^^^^^^^\n",
      "  File \"C:\\Users\\16788\\AppData\\Roaming\\Python\\Python311\\site-packages\\IPython\\core\\ultratb.py\", line 992, in prepare_header\n",
      "    width = min(75, get_terminal_size()[0])\n",
      "                    ^^^^^^^^^^^^^^^^^^^\n",
      "  File \"C:\\Users\\16788\\AppData\\Roaming\\Python\\Python311\\site-packages\\IPython\\utils\\terminal.py\", line 125, in get_terminal_size\n",
      "    return _get_terminal_size((defaultx, defaulty))\n",
      "           ^^^^^^^^^^^^^^^^^^^^^^^^^^^^^^^^^^^^^^^^\n",
      "  File \"c:\\Python311\\Lib\\shutil.py\", line 1408, in get_terminal_size\n",
      "    columns = int(os.environ['COLUMNS'])\n",
      "                  ~~~~~~~~~~^^^^^^^^^^^\n",
      "TypeError: string indices must be integers, not 'str'\n"
     ]
    },
    {
     "name": "stdout",
     "output_type": "stream",
     "text": [
      "ERROR! Session/line number was not unique in database. History logging moved to new session 138\n"
     ]
    }
   ],
   "source": [
    "print(\"mynameis\")"
   ]
  }
 ],
 "metadata": {
  "kernelspec": {
   "display_name": "Python 3 (ipykernel)",
   "language": "python",
   "name": "python3"
  },
  "language_info": {
   "codemirror_mode": {
    "name": "ipython",
    "version": 3
   },
   "file_extension": ".py",
   "mimetype": "text/x-python",
   "name": "python",
   "nbconvert_exporter": "python",
   "pygments_lexer": "ipython3",
   "version": "3.10.11"
  }
 },
 "nbformat": 4,
 "nbformat_minor": 4
}
